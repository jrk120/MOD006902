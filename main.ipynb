{
 "cells": [
  {
   "cell_type": "code",
   "execution_count": 51,
   "id": "c6cb01ca",
   "metadata": {},
   "outputs": [],
   "source": [
    "#Import necessary modules\n",
    "from pyspark.sql import SparkSession, Window\n",
    "from pyspark.sql.functions import col, when, lag, round, sqrt, pow, sum as sum_func, max as max_func,row_number, lit, min as min_func, abs, avg, count\n",
    "from pyspark.sql.types import StructType, StructField, LongType, StringType, BooleanType, DoubleType, IntegerType\n",
    "from pyspark.sql.functions import monotonically_increasing_id"
   ]
  },
  {
   "cell_type": "code",
   "execution_count": 52,
   "id": "2597fb1d",
   "metadata": {},
   "outputs": [],
   "source": [
    "#Create spark session\n",
    "spark = SparkSession.builder.appName(\"Formation insights\").getOrCreate()"
   ]
  },
  {
   "cell_type": "code",
   "execution_count": 53,
   "id": "e8d8e76d",
   "metadata": {},
   "outputs": [
    {
     "name": "stderr",
     "output_type": "stream",
     "text": [
      "25/06/10 16:37:15 WARN CacheManager: Asked to cache already cached data.\n"
     ]
    }
   ],
   "source": [
    "#Select only desired columns and apply schema\n",
    "schema = StructType([\n",
    "    StructField(\"gameId\", LongType(), True),\n",
    "    StructField(\"playId\", LongType(), True),\n",
    "    StructField(\"nflId\", DoubleType(), True),\n",
    "    StructField(\"frameId\", LongType(), True),\n",
    "    StructField(\"x\", DoubleType(), True),\n",
    "    StructField(\"y\", DoubleType(), True),\n",
    "    StructField(\"frameType\", StringType(), True)\n",
    "])\n",
    "\n",
    "#Merge all the tracking data into one dataframe.\n",
    "trackingDf = spark.read.schema(schema).parquet(\"data/tracking/\").cache()\n",
    "\n",
    "#Filter and select tracking data just before the snap - to determine if there is any pre-snap motion\n",
    "snapEventsDf = trackingDf.filter(col(\"frameType\") == \"SNAP\").groupby(\"gameId\", \"playId\").agg(min_func(\"frameId\").alias(\"snapEvent\"))\n",
    "\n",
    "#Join with full data to get last second before snap, using the last 10 frames (update rate of 0.1 seconds)\n",
    "presnapDf = trackingDf.join(snapEventsDf, [\"gameId\", \"playId\"]).filter(col(\"frameId\") < col(\"snapEvent\")).filter(col(\"frameId\") >= (col(\"snapEvent\") - 10))"
   ]
  },
  {
   "cell_type": "code",
   "execution_count": 54,
   "id": "aa6d2a8f",
   "metadata": {},
   "outputs": [
    {
     "name": "stderr",
     "output_type": "stream",
     "text": [
      "25/06/10 16:37:15 WARN CacheManager: Asked to cache already cached data.\n"
     ]
    }
   ],
   "source": [
    "schema = StructType([\n",
    "    StructField(\"gameId\", LongType(), True),\n",
    "    StructField(\"playId\", LongType(), True),\n",
    "    StructField(\"yardlineNumber\", LongType(), True),\n",
    "    StructField(\"offenseFormation\", StringType(), True), \n",
    "    StructField(\"receiverAlignment\", StringType(), True), \n",
    "    StructField(\"pff_passCoverage\", StringType(), True),\n",
    "    StructField(\"pff_manZone\", StringType(), True),\n",
    "    StructField(\"pff_runConceptPrimary\", StringType(), True)\n",
    "])\n",
    "\n",
    "playsDf = spark.read.schema(schema).parquet(\"data/plays.parquet\").cache()"
   ]
  },
  {
   "cell_type": "code",
   "execution_count": 55,
   "id": "dfa1c3f2",
   "metadata": {},
   "outputs": [],
   "source": [
    "#Read in columns of interest from players data source \n",
    "schema = StructType([\n",
    "    StructField(\"nflId\", LongType(), True), \n",
    "    StructField(\"position\", StringType(), True)\n",
    "])\n",
    "\n",
    "#Read in players datasource and apply schema\n",
    "playersDf = spark.read.schema(schema).parquet(\"data/players.parquet\").cache()"
   ]
  },
  {
   "cell_type": "code",
   "execution_count": 56,
   "id": "608c9d6c",
   "metadata": {},
   "outputs": [],
   "source": [
    "#Add positions column, through a join\n",
    "presnapDf = presnapDf.join(playersDf.select(\"nflId\", \"position\"), on=\"nflId\", how=\"left\")\n",
    "\n",
    "#Get rid of playersDf from cache as it obsolete\n",
    "playersDf.unpersist()\n",
    "\n",
    "#Position classifications for later usage\n",
    "offensivePositions = [\"QB\", \"RB\", \"FB\", \"HB\", \"WR\", \"TE\", \"LT\", \"LG\", \"C\", \"RG\", \"RT\"]\n",
    "defensivePositions = [\"CB\", \"S\", \"FS\", \"SS\", \"MLB\", \"OLB\", \"ILB\", \"LB\", \"DT\", \"DE\", \"NT\", \"DB\"]\n",
    "\n",
    "#Create a classifier column for if the player is on offence or defence\n",
    "presnapDf = presnapDf.withColumn(\"isOffence\",when(col(\"position\").isin(*offensivePositions), True).when(col(\"position\").isin(*defensivePositions), False).otherwise(lit(None)).cast(BooleanType()))\n",
    "\n",
    "#--------------------------------------------------Safety feature engineering---------------------------------------------------\n",
    "#Select only the safeties\n",
    "safetyDf = presnapDf.filter(col(\"position\").isin([\"SS\", \"FS\"]))\n",
    "\n",
    "#Drop redundant columns\n",
    "safetyDf.drop(\"frameId\", \"frameType\", \"snapEvent\", \"isOffence\")\n",
    "\n",
    "#Get the yardline of the play\n",
    "safetyDf = safetyDf.join(playsDf.select(\"gameId\", \"playId\", \"yardlineNumber\"), on = [\"gameId\", \"playId\"], how = \"left\")\n",
    "\n",
    "#Determine which direction the offence is facing\n",
    "safetyDf = safetyDf.withColumn(\"play_direction\", when(col(\"x\") < col(\"yardlineNumber\"), \"right\").otherwise(\"left\"))\n",
    "\n",
    "#Fix in the line of scrimmage, using the play direction, this is so that \"line_of_scrimmage\" is in the same units as \"x\"\n",
    "safetyDf = safetyDf.withColumn(\"line_of_scrimage\",when(col(\"play_direction\") == \"left\", 100 - col(\"yardlineNumber\")).otherwise(col(\"yardlineNumber\")))\n",
    "\n",
    "#Determine safety depth\n",
    "safetyDf = safetyDf.withColumn(\"distance\", abs(col(\"x\") - col(\"line_of_scrimage\")))\n",
    "\n",
    "#Select only the last frame, this will have the distance a moment before the snap\n",
    "frameGroupByDf = safetyDf.groupBy(\"nflId\", \"gameId\", \"playId\").agg(max_func(\"frameId\").alias(\"frameId\"))\n",
    "\n",
    "#what?\n",
    "safetyDf = safetyDf.join(frameGroupByDf, on = [\"nflId\",\"gameId\", \"playId\", \"frameId\"], how = \"inner\")\n",
    "\n",
    "#Create the two features by averaging the safety depth and creating a count of safeties\n",
    "safetyDf = safetyDf.groupBy(\"gameId\", \"playId\").agg(avg(\"distance\").alias(\"avgSafetyDistance\"), count(\"distance\").alias(\"numSafeties\"))"
   ]
  },
  {
   "cell_type": "code",
   "execution_count": null,
   "id": "7b5f5ecd",
   "metadata": {},
   "outputs": [],
   "source": [
    "#--------------------------------------------------------Pre snap motion engineering---------------------------------------------------\n",
    "\n",
    "#Drop redundant columns\n",
    "presnapDf = presnapDf.drop(\"frameId\", \"frameType\", \"snapEvent\", \"position\")\n",
    "\n",
    "#Formalise the sequence of the dataframe through an id to be used in a partition windw\n",
    "presnapDf = presnapDf.withColumn(\"sequenceId\", monotonically_increasing_id())\n",
    "sparkWindow = Window.partitionBy(\"gameId\", \"playId\", \"nflId\").orderBy(\"sequenceId\")\n",
    "\n",
    "#Over the window (per player per play) determine their position compared to the last data point\n",
    "presnapDf = presnapDf.withColumn(\"prevX\", round(lag(\"x\").over(sparkWindow), 2))\n",
    "presnapDf = presnapDf.withColumn(\"prevY\", round(lag(\"y\").over(sparkWindow), 2))\n",
    "\n",
    "#Calculate cumulative distance\n",
    "presnapDf = presnapDf.withColumn(\"cumulativeDistance\", round(when(col(\"prevX\").isNull() | col(\"prevY\").isNull(), 0.0).otherwise(sqrt(pow(col(\"x\") - col(\"prevX\"), 2) + pow(col(\"y\") - col(\"prevY\"), 2))),5))\n",
    "\n",
    "#Sum all the movement values - this gives total distance moved in a second\n",
    "playerMotion = presnapDf.groupBy(\"gameId\", \"playId\", \"nflId\", \"isOffence\").agg(sum_func(\"cumulativeDistance\").alias(\"distanceMoved\"))\n",
    "\n",
    "presnapDf.unpersist()\n",
    "\n",
    "#Using a threshold of 2 yards in the 1 second time frame, determine if the player was in motion\n",
    "playerMotion = playerMotion.withColumn(\"motion\", col(\"distanceMoved\") > 2)\n",
    "\n",
    "#Determine if any player on each side was in motion\n",
    "playMotion = playerMotion.groupBy(\"gameId\", \"playId\", \"isOffence\").agg(max_func(\"motion\").alias(\"isMotion\"))\n",
    "\n",
    "#Create final result\n",
    "playMotion = playMotion.select(\"gameId\", \"playId\", \"isOffence\", \"isMotion\")\n",
    "\n",
    "#Move each play onto one row for an easier join with the rest of the data\n",
    "playMotion = playMotion.withColumn(\"isOffenceMoving\", when(col(\"isOffence\") == True, col(\"isMotion\")))\\\n",
    "                   .withColumn(\"isDefenceMoving\", when(col(\"isOffence\") == False, col(\"isMotion\")))\\\n",
    "                   .groupBy(\"gameId\", \"playId\")\\\n",
    "                   .agg(max_func(\"isOffenceMoving\").alias(\"isOffenceMoving\"),\n",
    "                        max_func(\"isDefenceMoving\").alias(\"isDefenceMoving\"))"
   ]
  },
  {
   "cell_type": "code",
   "execution_count": 58,
   "id": "d19e507d",
   "metadata": {},
   "outputs": [
    {
     "name": "stderr",
     "output_type": "stream",
     "text": [
      "25/06/10 16:37:17 WARN MemoryStore: Not enough space to cache rdd_8_0 in memory! (computed 101.1 MiB so far)\n",
      "25/06/10 16:37:17 WARN MemoryStore: Not enough space to cache rdd_8_1 in memory! (computed 152.0 MiB so far)\n",
      "25/06/10 16:37:24 WARN MemoryStore: Not enough space to cache rdd_8_3 in memory! (computed 101.1 MiB so far)\n",
      "25/06/10 16:37:24 WARN MemoryStore: Not enough space to cache rdd_8_2 in memory! (computed 152.1 MiB so far)\n",
      "25/06/10 16:37:27 WARN MemoryStore: Not enough space to cache rdd_8_5 in memory! (computed 101.0 MiB so far)\n",
      "25/06/10 16:37:27 WARN MemoryStore: Not enough space to cache rdd_8_4 in memory! (computed 152.0 MiB so far)\n",
      "25/06/10 16:37:32 WARN MemoryStore: Not enough space to cache rdd_8_8 in memory! (computed 101.1 MiB so far)\n",
      "25/06/10 16:37:32 WARN MemoryStore: Not enough space to cache rdd_8_0 in memory! (computed 42.7 MiB so far)\n",
      "25/06/10 16:37:35 WARN MemoryStore: Not enough space to cache rdd_8_1 in memory! (computed 101.1 MiB so far)\n",
      "25/06/10 16:37:37 WARN MemoryStore: Not enough space to cache rdd_8_2 in memory! (computed 42.7 MiB so far)\n",
      "25/06/10 16:37:39 WARN MemoryStore: Not enough space to cache rdd_8_3 in memory! (computed 101.1 MiB so far)\n",
      "25/06/10 16:37:41 WARN MemoryStore: Not enough space to cache rdd_8_4 in memory! (computed 42.7 MiB so far)\n",
      "25/06/10 16:37:43 WARN MemoryStore: Not enough space to cache rdd_8_5 in memory! (computed 101.0 MiB so far)\n",
      "25/06/10 16:37:47 WARN MemoryStore: Not enough space to cache rdd_8_8 in memory! (computed 101.1 MiB so far)\n",
      "25/06/10 16:37:49 WARN MemoryStore: Not enough space to cache rdd_8_0 in memory! (computed 42.7 MiB so far)\n",
      "25/06/10 16:37:51 WARN MemoryStore: Not enough space to cache rdd_8_1 in memory! (computed 101.1 MiB so far)\n",
      "25/06/10 16:37:54 WARN MemoryStore: Not enough space to cache rdd_8_2 in memory! (computed 101.1 MiB so far)\n",
      "25/06/10 16:37:55 WARN MemoryStore: Not enough space to cache rdd_8_3 in memory! (computed 42.7 MiB so far)\n",
      "25/06/10 16:37:58 WARN MemoryStore: Not enough space to cache rdd_8_4 in memory! (computed 101.0 MiB so far)\n",
      "25/06/10 16:37:58 WARN MemoryStore: Not enough space to cache rdd_8_5 in memory! (computed 42.7 MiB so far)\n",
      "25/06/10 16:38:04 WARN MemoryStore: Not enough space to cache rdd_8_0 in memory! (computed 152.0 MiB so far)\n",
      "25/06/10 16:38:09 WARN MemoryStore: Not enough space to cache rdd_8_2 in memory! (computed 65.8 MiB so far)\n",
      "25/06/10 16:38:09 WARN MemoryStore: Not enough space to cache rdd_8_3 in memory! (computed 65.8 MiB so far)\n",
      "25/06/10 16:38:11 WARN MemoryStore: Not enough space to cache rdd_8_4 in memory! (computed 152.0 MiB so far)\n",
      "25/06/10 16:38:11 WARN MemoryStore: Not enough space to cache rdd_8_5 in memory! (computed 101.0 MiB so far)\n",
      "25/06/10 16:38:13 WARN MemoryStore: Not enough space to cache rdd_8_8 in memory! (computed 101.1 MiB so far)\n",
      "25/06/10 16:38:13 WARN MemoryStore: Not enough space to cache rdd_8_0 in memory! (computed 27.3 MiB so far)\n",
      "25/06/10 16:38:17 WARN MemoryStore: Not enough space to cache rdd_8_2 in memory! (computed 101.1 MiB so far)\n",
      "25/06/10 16:38:19 WARN MemoryStore: Not enough space to cache rdd_8_4 in memory! (computed 101.0 MiB so far)\n",
      "25/06/10 16:38:21 WARN MemoryStore: Not enough space to cache rdd_8_6 in memory! (computed 101.1 MiB so far)\n",
      "25/06/10 16:38:21 WARN MemoryStore: Not enough space to cache rdd_8_7 in memory! (computed 27.3 MiB so far)\n",
      "25/06/10 16:38:22 WARN MemoryStore: Not enough space to cache rdd_8_0 in memory! (computed 152.0 MiB so far)\n",
      "25/06/10 16:38:23 WARN MemoryStore: Not enough space to cache rdd_8_1 in memory! (computed 152.0 MiB so far)\n",
      "25/06/10 16:38:26 WARN MemoryStore: Not enough space to cache rdd_8_4 in memory! (computed 42.7 MiB so far)\n",
      "25/06/10 16:38:26 WARN MemoryStore: Not enough space to cache rdd_8_5 in memory! (computed 65.8 MiB so far)\n",
      "25/06/10 16:38:28 WARN MemoryStore: Not enough space to cache rdd_8_7 in memory! (computed 101.1 MiB so far)\n",
      "25/06/10 16:38:29 WARN MemoryStore: Not enough space to cache rdd_8_8 in memory! (computed 101.1 MiB so far)\n",
      "[Stage 357:>                                                        (0 + 1) / 1]\r"
     ]
    },
    {
     "name": "stdout",
     "output_type": "stream",
     "text": [
      "+----------+------+--------------+----------------+-----------------+----------------+-----------+---------------------+---------------+---------------+------------------+-----------+\n",
      "|    gameId|playId|yardlineNumber|offenseFormation|receiverAlignment|pff_passCoverage|pff_manZone|pff_runConceptPrimary|isOffenceMoving|isDefenceMoving| avgSafetyDistance|numSafeties|\n",
      "+----------+------+--------------+----------------+-----------------+----------------+-----------+---------------------+---------------+---------------+------------------+-----------+\n",
      "|2022090800|   212|            34|         SHOTGUN|              2x2|         Cover-1|        Man|                 NULL|           true|           true| 3.219999999999999|          2|\n",
      "|2022090800|  1230|            44|         SHOTGUN|              3x1|        Quarters|       Zone|                 NULL|          false|          false| 4.079999999999998|          2|\n",
      "|2022090800|  1504|            27|         SHOTGUN|              2x2|         Cover-3|       Zone|                 NULL|          false|          false|             24.81|          2|\n",
      "|2022090800|  2208|            15|         SHOTGUN|              3x1|         Cover-3|       Zone|                 NULL|           true|          false|1.0200000000000005|          2|\n",
      "|2022090800|  3674|            16|         SHOTGUN|              2x2|        Quarters|       Zone|                 NULL|           true|          false|35.584999999999994|          2|\n",
      "|2022091100|    99|            42|      SINGLEBACK|              2x2|   Cover-6 Right|       Zone|         OUTSIDE ZONE|          false|          false| 5.336666666666669|          3|\n",
      "|2022091100|   501|            23|      SINGLEBACK|              3x1|         Cover-2|       Zone|         OUTSIDE ZONE|           true|           true| 2.635000000000005|          2|\n",
      "|2022091100|   828|            26|         SHOTGUN|              3x1|         Cover-0|        Man|                 NULL|          false|           true|              40.1|          2|\n",
      "|2022091100|  1552|            18|          PISTOL|              3x1|         Cover-3|       Zone|                  MAN|          false|          false| 6.993333333333335|          3|\n",
      "|2022091100|  2204|            32|      SINGLEBACK|              3x1|         Cover-3|       Zone|         OUTSIDE ZONE|           true|          false|             20.22|          2|\n",
      "|2022091100|  2984|             9|          PISTOL|              2x1|        Red Zone|      Other|                  MAN|          false|          false| 80.91999999999999|          2|\n",
      "|2022091100|  3504|            41|         SHOTGUN|              2x2|         Cover-2|       Zone|                 NULL|          false|          false| 8.684999999999999|          2|\n",
      "|2022091100|  4102|            50|         SHOTGUN|              3x1|         Cover-1|        Man|                 NULL|          false|          false|             24.22|          2|\n",
      "|2022091100|  4187|            25|         SHOTGUN|              3x1|        Quarters|       Zone|                 NULL|          false|          false|2.7866666666666666|          3|\n",
      "|2022091101|  1192|            42|          PISTOL|              2x1|        Quarters|       Zone|            UNDEFINED|           true|          false|17.854999999999997|          2|\n",
      "|2022091101|  1213|            40|         SHOTGUN|              2x2|         Cover-3|       Zone|                POWER|          false|          false|14.809999999999997|          3|\n",
      "|2022091101|  1537|            46|          PISTOL|              2x1|         Cover-1|        Man|                POWER|           true|           true| 8.533333333333333|          3|\n",
      "|2022091101|  2227|            25|            NULL|             NULL|            NULL|       NULL|            UNDEFINED|          false|          false|0.2700000000000031|          2|\n",
      "|2022091101|  2341|            29|         SHOTGUN|              3x1|         Cover-2|       Zone|                 NULL|          false|          false|             19.79|          2|\n",
      "|2022091101|  2545|            16|      SINGLEBACK|              3x1|         Cover-3|       Zone|         OUTSIDE ZONE|           true|          false| 17.05666666666667|          3|\n",
      "+----------+------+--------------+----------------+-----------------+----------------+-----------+---------------------+---------------+---------------+------------------+-----------+\n",
      "only showing top 20 rows\n"
     ]
    },
    {
     "name": "stderr",
     "output_type": "stream",
     "text": [
      "                                                                                \r"
     ]
    }
   ],
   "source": [
    "mergedDf = playsDf.join(playMotion, [\"gameId\", \"playId\"], \"inner\").join(safetyDf, [\"gameId\", \"playId\"], \"inner\")\n",
    "\n",
    "mergedDf.show()"
   ]
  }
 ],
 "metadata": {
  "kernelspec": {
   "display_name": "Python 3",
   "language": "python",
   "name": "python3"
  },
  "language_info": {
   "codemirror_mode": {
    "name": "ipython",
    "version": 3
   },
   "file_extension": ".py",
   "mimetype": "text/x-python",
   "name": "python",
   "nbconvert_exporter": "python",
   "pygments_lexer": "ipython3",
   "version": "3.12.1"
  }
 },
 "nbformat": 4,
 "nbformat_minor": 5
}
