{
 "cells": [
  {
   "cell_type": "code",
   "execution_count": 121,
   "id": "c6cb01ca",
   "metadata": {},
   "outputs": [],
   "source": [
    "#Import necessary modules\n",
    "from pyspark.sql import SparkSession, Window\n",
    "from pyspark.sql.functions import col, when, lag, round, sqrt, pow, sum as sum_func, max as max_func,row_number, lit, min as min_func\n",
    "from pyspark.sql.types import StructType, StructField, LongType, StringType, BooleanType, DoubleType\n"
   ]
  },
  {
   "cell_type": "code",
   "execution_count": 122,
   "id": "2597fb1d",
   "metadata": {},
   "outputs": [],
   "source": [
    "#Create spark session\n",
    "spark = SparkSession.builder.appName(\"Formation insights\").getOrCreate()"
   ]
  },
  {
   "cell_type": "code",
   "execution_count": 123,
   "id": "e8d8e76d",
   "metadata": {},
   "outputs": [
    {
     "name": "stderr",
     "output_type": "stream",
     "text": [
      "25/06/04 16:15:47 WARN CacheManager: Asked to cache already cached data.\n"
     ]
    }
   ],
   "source": [
    "#Select only desired columns and apply schema\n",
    "schema = StructType([\n",
    "    StructField(\"gameId\", LongType(), True),\n",
    "    StructField(\"playId\", LongType(), True),\n",
    "    StructField(\"nflId\", DoubleType(), True),\n",
    "    StructField(\"frameId\", LongType(), True),\n",
    "    StructField(\"x\", DoubleType(), True),\n",
    "    StructField(\"y\", DoubleType(), True),\n",
    "    StructField(\"frameType\", StringType(), True)\n",
    "])\n",
    "\n",
    "#Merge all the tracking data into one dataframe.\n",
    "trackingDf = spark.read.parquet(\"data/tracking/\").cache()\n",
    "\n",
    "#Filter and select tracking data just before the snap - to determine if there is any pre-snap motion\n",
    "snapEventsDf = trackingDf.filter(col(\"frameType\") == \"SNAP\").groupby(\"gameId\", \"playId\").agg(min_func(\"frameId\").alias(\"snapEvent\"))\n",
    "\n",
    "#Join with full data to get last second before snap, using the last 10 frames (update rate of 0.1 seconds)\n",
    "presnapDf = trackingDf.join(snapEventsDf, [\"gameId\", \"playId\"]).filter(col(\"frameId\") < col(\"snapEvent\")).filter(col(\"frameId\") >= (col(\"snapEvent\") - 10))"
   ]
  },
  {
   "cell_type": "code",
   "execution_count": 127,
   "id": "7b5f5ecd",
   "metadata": {},
   "outputs": [
    {
     "name": "stderr",
     "output_type": "stream",
     "text": [
      "25/06/04 16:20:42 WARN CacheManager: Asked to cache already cached data.\n",
      "25/06/04 16:20:44 WARN MemoryStore: Not enough space to cache rdd_345_0 in memory! (computed 209.7 MiB so far)\n",
      "25/06/04 16:20:44 WARN MemoryStore: Not enough space to cache rdd_345_1 in memory! (computed 209.6 MiB so far)\n",
      "25/06/04 16:20:51 WARN MemoryStore: Not enough space to cache rdd_345_3 in memory! (computed 209.6 MiB so far)\n",
      "25/06/04 16:20:51 WARN MemoryStore: Not enough space to cache rdd_345_2 in memory! (computed 209.7 MiB so far)\n",
      "25/06/04 16:20:59 WARN MemoryStore: Not enough space to cache rdd_345_4 in memory! (computed 209.6 MiB so far)\n",
      "25/06/04 16:20:59 WARN MemoryStore: Not enough space to cache rdd_345_5 in memory! (computed 209.7 MiB so far)\n",
      "25/06/04 16:21:06 WARN MemoryStore: Not enough space to cache rdd_345_6 in memory! (computed 209.6 MiB so far)\n",
      "25/06/04 16:21:06 WARN MemoryStore: Not enough space to cache rdd_345_7 in memory! (computed 209.6 MiB so far)\n",
      "25/06/04 16:21:12 WARN MemoryStore: Not enough space to cache rdd_345_8 in memory! (computed 209.6 MiB so far)\n",
      "25/06/04 16:21:12 WARN MemoryStore: Not enough space to cache rdd_345_0 in memory! (computed 209.7 MiB so far)\n",
      "25/06/04 16:21:15 WARN MemoryStore: Not enough space to cache rdd_345_1 in memory! (computed 322.0 MiB so far)\n",
      "25/06/04 16:21:17 WARN MemoryStore: Not enough space to cache rdd_345_2 in memory! (computed 322.1 MiB so far)\n",
      "25/06/04 16:21:17 WARN MemoryStore: Not enough space to cache rdd_345_3 in memory! (computed 86.8 MiB so far)\n",
      "25/06/04 16:21:20 WARN MemoryStore: Not enough space to cache rdd_345_5 in memory! (computed 86.8 MiB so far)\n",
      "25/06/04 16:21:20 WARN MemoryStore: Not enough space to cache rdd_345_4 in memory! (computed 322.0 MiB so far)\n",
      "25/06/04 16:21:22 WARN MemoryStore: Not enough space to cache rdd_345_7 in memory! (computed 86.8 MiB so far)\n",
      "25/06/04 16:21:22 WARN MemoryStore: Not enough space to cache rdd_345_6 in memory! (computed 322.0 MiB so far)\n",
      "25/06/04 16:21:24 WARN MemoryStore: Not enough space to cache rdd_345_8 in memory! (computed 321.9 MiB so far)\n",
      "[Stage 190:>                                                        (0 + 1) / 1]\r"
     ]
    },
    {
     "name": "stdout",
     "output_type": "stream",
     "text": [
      "+----------+------+---------+--------+\n",
      "|    gameId|playId|isOffence|isMotion|\n",
      "+----------+------+---------+--------+\n",
      "|2022090800|  1504|    false|   false|\n",
      "|2022090800|  1504|     true|   false|\n",
      "|2022090800|  3674|     true|    true|\n",
      "|2022090800|  3674|    false|   false|\n",
      "|2022091100|   501|    false|    true|\n",
      "|2022091100|   501|     true|    true|\n",
      "|2022091100|   828|    false|    true|\n",
      "|2022091100|   828|     true|   false|\n",
      "|2022091100|  2984|    false|   false|\n",
      "|2022091100|  2984|     true|   false|\n",
      "|2022091100|  3504|    false|   false|\n",
      "|2022091100|  3504|     true|   false|\n",
      "|2022091100|  4187|    false|   false|\n",
      "|2022091100|  4187|     true|   false|\n",
      "|2022091101|  1192|     true|    true|\n",
      "|2022091101|  1192|    false|   false|\n",
      "|2022091101|  1213|     true|   false|\n",
      "|2022091101|  1213|    false|   false|\n",
      "|2022091101|  1537|     true|    true|\n",
      "|2022091101|  1537|    false|    true|\n",
      "+----------+------+---------+--------+\n",
      "only showing top 20 rows\n"
     ]
    },
    {
     "name": "stderr",
     "output_type": "stream",
     "text": [
      "                                                                                \r"
     ]
    }
   ],
   "source": [
    "#Read in columns of interest from players data source \n",
    "schema = StructType([\n",
    "    StructField(\"nflId\", LongType(), True), \n",
    "    StructField(\"position\", StringType(), True)\n",
    "])\n",
    "\n",
    "#Read in players datasource and apply schema\n",
    "playersDf = spark.read.schema(schema).parquet(\"data/players.parquet\").cache()\n",
    "\n",
    "#Add positions column, through a join\n",
    "presnapDf = presnapDf.join(playersDf.select(\"nflId\", \"position\"), on=\"nflId\", how=\"left\")\n",
    "\n",
    "#Position classifications\n",
    "offensivePositions = [\"QB\", \"RB\", \"FB\", \"HB\", \"WR\", \"TE\", \"LT\", \"LG\", \"C\", \"RG\", \"RT\"]\n",
    "defensivePositions = [\"CB\", \"S\", \"FS\", \"SS\", \"MLB\", \"OLB\", \"ILB\", \"LB\", \"DT\", \"DE\", \"NT\", \"DB\"]\n",
    "\n",
    "#Create a classifier column for if the player is on offence or defence\n",
    "presnapDf = presnapDf.withColumn(\"isOffence\",when(col(\"position\").isin(*offensivePositions), True).when(col(\"position\").isin(*defensivePositions), False).otherwise(lit(None)).cast(BooleanType()))\n",
    "\n",
    "#Drop redundant columns\n",
    "presnapDf = presnapDf.drop(\"frameId\", \"frameType\", \"snapEvent\", \"position\")\n",
    "\n",
    "#Define window for ordering\n",
    "sparkWindow = Window.partitionBy(\"gameId\", \"playId\", \"nflId\").orderBy(\"time\")  # assuming 'time' exists\n",
    "\n",
    "#Add orderId using row number (for later sorting)\n",
    "presnapDf = presnapDf.withColumn(\"orderId\", row_number().over(sparkWindow))\n",
    "\n",
    "presnapDf = presnapDf.withColumn(\"prevX\", round(lag(\"x\").over(sparkWindow), 2))\n",
    "presnapDf = presnapDf.withColumn(\"prevY\", round(lag(\"y\").over(sparkWindow), 2))\n",
    "\n",
    "#Calculate cumulative distance\n",
    "presnapDf = presnapDf.withColumn(\n",
    "    \"cumulativeDistance\", round(when(col(\"prevX\").isNull() | col(\"prevY\").isNull(), 0.0).otherwise(sqrt(pow(col(\"x\") - col(\"prevX\"), 2) + pow(col(\"y\") - col(\"prevY\"), 2))),5))\n",
    "\n",
    "#Sum all the movement values - this gives total distance moved in a second\n",
    "playerMotion = presnapDf.groupBy(\"gameId\", \"playId\", \"nflId\", \"isOffence\").agg(sum_func(\"cumulativeDistance\").alias(\"distanceMoved\"))\n",
    "\n",
    "#Using a threshold of 2 yards in the 1 second time frame, determine if the player was in motion\n",
    "playerMotion = playerMotion.withColumn(\"motion\", col(\"distanceMoved\") > 2)\n",
    "\n",
    "#Determine if any player on each side was in motion\n",
    "playMotion = playerMotion.groupBy(\"gameId\", \"playId\", \"isOffence\").agg(max_func(\"motion\").alias(\"isMotion\"))\n",
    "\n",
    "#Create final result\n",
    "playMotion = playMotion.select(\"gameId\", \"playId\", \"isOffence\", \"isMotion\")\n",
    "\n",
    "playMotion.show()\n"
   ]
  }
 ],
 "metadata": {
  "kernelspec": {
   "display_name": "Python 3",
   "language": "python",
   "name": "python3"
  },
  "language_info": {
   "codemirror_mode": {
    "name": "ipython",
    "version": 3
   },
   "file_extension": ".py",
   "mimetype": "text/x-python",
   "name": "python",
   "nbconvert_exporter": "python",
   "pygments_lexer": "ipython3",
   "version": "3.12.1"
  }
 },
 "nbformat": 4,
 "nbformat_minor": 5
}
